{
 "cells": [
  {
   "cell_type": "markdown",
   "id": "3fc0a92d",
   "metadata": {},
   "source": [
    "# Problem Statement\n"
   ]
  },
  {
   "cell_type": "markdown",
   "id": "5e778f13",
   "metadata": {},
   "source": [
    "The dataset contains weekly retail scan data for National Retail Volume (units) and price.\n",
    "\n",
    "Retail scan data comes directly from retailers’ cash registers based on actual retail sales of Hass avocados.\n",
    "\n",
    "The column **AveragePrice** is the average price of a single avocado.\n",
    "\n",
    "This is the data that we have to predict for **future samples**."
   ]
  },
  {
   "cell_type": "markdown",
   "id": "1e3085e6",
   "metadata": {},
   "source": [
    "## Importing packagaes"
   ]
  },
  {
   "cell_type": "code",
   "execution_count": 9,
   "id": "41e96cef",
   "metadata": {},
   "outputs": [],
   "source": [
    "import numpy as np \n",
    "np.set_printoptions(precision=4)    # to disply values upto Four decimal places\n",
    "\n",
    "import pandas as pd\n",
    "pd.set_option('mode.chained_assignment', None)   #to supress pandas warnings\n",
    "\n",
    "\n",
    "import matplotlib.pyplot as plt\n",
    "plt.style.use('seaborn-white')            # To apply seaborn white style to the plots\n",
    "plt.rc('figure', figsize=(14,10))         # Set the default figure size of plots\n",
    "%matplotlib inline\n",
    "import seaborn as sns\n",
    "\n",
    "import warnings \n",
    "warnings.filterwarnings(\"ignore\")  # To supress all the warnings in the notebook\n"
   ]
  },
  {
   "cell_type": "markdown",
   "id": "bf24bbf9",
   "metadata": {},
   "source": [
    "## Data Loading and Description "
   ]
  },
  {
   "cell_type": "code",
   "execution_count": 3,
   "id": "870b011d",
   "metadata": {},
   "outputs": [
    {
     "data": {
      "text/html": [
       "<div>\n",
       "<style scoped>\n",
       "    .dataframe tbody tr th:only-of-type {\n",
       "        vertical-align: middle;\n",
       "    }\n",
       "\n",
       "    .dataframe tbody tr th {\n",
       "        vertical-align: top;\n",
       "    }\n",
       "\n",
       "    .dataframe thead th {\n",
       "        text-align: right;\n",
       "    }\n",
       "</style>\n",
       "<table border=\"1\" class=\"dataframe\">\n",
       "  <thead>\n",
       "    <tr style=\"text-align: right;\">\n",
       "      <th></th>\n",
       "      <th>Id</th>\n",
       "      <th>Date</th>\n",
       "      <th>AveragePrice</th>\n",
       "      <th>Total Volume</th>\n",
       "      <th>4046</th>\n",
       "      <th>4225</th>\n",
       "      <th>4770</th>\n",
       "      <th>Total Bags</th>\n",
       "      <th>Small Bags</th>\n",
       "      <th>Large Bags</th>\n",
       "      <th>XLarge Bags</th>\n",
       "      <th>type</th>\n",
       "      <th>year</th>\n",
       "      <th>region</th>\n",
       "    </tr>\n",
       "  </thead>\n",
       "  <tbody>\n",
       "    <tr>\n",
       "      <th>0</th>\n",
       "      <td>14761</td>\n",
       "      <td>2017-08-20</td>\n",
       "      <td>1.86</td>\n",
       "      <td>2584.08</td>\n",
       "      <td>61.21</td>\n",
       "      <td>143.82</td>\n",
       "      <td>0.00</td>\n",
       "      <td>2379.05</td>\n",
       "      <td>2379.05</td>\n",
       "      <td>0.00</td>\n",
       "      <td>0.0</td>\n",
       "      <td>organic</td>\n",
       "      <td>2017</td>\n",
       "      <td>Albany</td>\n",
       "    </tr>\n",
       "    <tr>\n",
       "      <th>1</th>\n",
       "      <td>6843</td>\n",
       "      <td>2017-11-12</td>\n",
       "      <td>1.14</td>\n",
       "      <td>100811.00</td>\n",
       "      <td>3181.00</td>\n",
       "      <td>43510.00</td>\n",
       "      <td>86.00</td>\n",
       "      <td>54034.00</td>\n",
       "      <td>11788.00</td>\n",
       "      <td>42246.00</td>\n",
       "      <td>0.0</td>\n",
       "      <td>conventional</td>\n",
       "      <td>2017</td>\n",
       "      <td>Louisville</td>\n",
       "    </tr>\n",
       "    <tr>\n",
       "      <th>2</th>\n",
       "      <td>7306</td>\n",
       "      <td>2017-02-12</td>\n",
       "      <td>0.95</td>\n",
       "      <td>430096.94</td>\n",
       "      <td>242212.80</td>\n",
       "      <td>81697.52</td>\n",
       "      <td>264.25</td>\n",
       "      <td>105922.37</td>\n",
       "      <td>48557.37</td>\n",
       "      <td>57365.00</td>\n",
       "      <td>0.0</td>\n",
       "      <td>conventional</td>\n",
       "      <td>2017</td>\n",
       "      <td>Orlando</td>\n",
       "    </tr>\n",
       "    <tr>\n",
       "      <th>3</th>\n",
       "      <td>12329</td>\n",
       "      <td>2016-05-22</td>\n",
       "      <td>1.71</td>\n",
       "      <td>5433.16</td>\n",
       "      <td>437.48</td>\n",
       "      <td>2422.71</td>\n",
       "      <td>544.63</td>\n",
       "      <td>2028.34</td>\n",
       "      <td>2021.67</td>\n",
       "      <td>6.67</td>\n",
       "      <td>0.0</td>\n",
       "      <td>organic</td>\n",
       "      <td>2016</td>\n",
       "      <td>Charlotte</td>\n",
       "    </tr>\n",
       "    <tr>\n",
       "      <th>4</th>\n",
       "      <td>12036</td>\n",
       "      <td>2016-01-10</td>\n",
       "      <td>1.66</td>\n",
       "      <td>5614.09</td>\n",
       "      <td>2123.47</td>\n",
       "      <td>2121.26</td>\n",
       "      <td>0.00</td>\n",
       "      <td>1369.36</td>\n",
       "      <td>392.02</td>\n",
       "      <td>977.34</td>\n",
       "      <td>0.0</td>\n",
       "      <td>organic</td>\n",
       "      <td>2016</td>\n",
       "      <td>Atlanta</td>\n",
       "    </tr>\n",
       "  </tbody>\n",
       "</table>\n",
       "</div>"
      ],
      "text/plain": [
       "      Id        Date  AveragePrice  Total Volume       4046      4225    4770  \\\n",
       "0  14761  2017-08-20          1.86       2584.08      61.21    143.82    0.00   \n",
       "1   6843  2017-11-12          1.14     100811.00    3181.00  43510.00   86.00   \n",
       "2   7306  2017-02-12          0.95     430096.94  242212.80  81697.52  264.25   \n",
       "3  12329  2016-05-22          1.71       5433.16     437.48   2422.71  544.63   \n",
       "4  12036  2016-01-10          1.66       5614.09    2123.47   2121.26    0.00   \n",
       "\n",
       "   Total Bags  Small Bags  Large Bags  XLarge Bags          type  year  \\\n",
       "0     2379.05     2379.05        0.00          0.0       organic  2017   \n",
       "1    54034.00    11788.00    42246.00          0.0  conventional  2017   \n",
       "2   105922.37    48557.37    57365.00          0.0  conventional  2017   \n",
       "3     2028.34     2021.67        6.67          0.0       organic  2016   \n",
       "4     1369.36      392.02      977.34          0.0       organic  2016   \n",
       "\n",
       "       region  \n",
       "0      Albany  \n",
       "1  Louisville  \n",
       "2     Orlando  \n",
       "3   Charlotte  \n",
       "4     Atlanta  "
      ]
     },
     "execution_count": 3,
     "metadata": {},
     "output_type": "execute_result"
    }
   ],
   "source": [
    "train_df = pd.read_csv('avocado_train.csv')\n",
    "train_df.head(5)"
   ]
  },
  {
   "cell_type": "code",
   "execution_count": 4,
   "id": "6425bf2c",
   "metadata": {},
   "outputs": [
    {
     "data": {
      "text/plain": [
       "(14599, 14)"
      ]
     },
     "execution_count": 4,
     "metadata": {},
     "output_type": "execute_result"
    }
   ],
   "source": [
    "train_df.shape"
   ]
  },
  {
   "cell_type": "markdown",
   "id": "52e10750",
   "metadata": {},
   "source": [
    "- We have **18249** rows and **14 columns** in the given dataset"
   ]
  },
  {
   "cell_type": "markdown",
   "id": "dad4dff1",
   "metadata": {},
   "source": [
    "## Description of the dataset"
   ]
  },
  {
   "cell_type": "markdown",
   "id": "0eb189c0",
   "metadata": {},
   "source": [
    "\n",
    "\n",
    "|Column Name\t                              | Description                                                                   |\n",
    "| --------------------------------------------|------------------------------------------------------------------------------:| \n",
    "| ID\t                                      | Unique identity of each observation                                           |\n",
    "| Date\t                                      | The date of the observation.                                         | \n",
    "| **AveragePrice**\t                                  | **The average price of a single avocado** - [Target Variable.]                                      |\n",
    "| type\t                                  | Conventional or Organic.                                               |\n",
    "| year\t                              | The year                                           |\n",
    "| Region\t                      | The city or region of the observation.                                  |\n",
    "| Total Volume\t                              | Total number of avocados sold                                                |\n",
    "| 4046\t                              | Total number of avocados with PLU 4046 sold.                                       |\n",
    "| 4225\t                              |Total number of avocados with PLU 4225 sold.                                                 |\n",
    "| 4770\t                      | Total number of avocados with PLU 4770 sold.                                     |\n",
    "| Total Bag\t                          |Total Bags of Avocados sold                           |\n",
    "| Small Bags\t                                  | Total number of Small Bags of Avocados sold.                                            |\n",
    "| Large Bags                                  | Total number of Large Bags of Avocados sold.                                                  |\n",
    "| XLarge Bags\t                                  | Total number of XLarge Bags of Avocados sold.                             |"
   ]
  },
  {
   "cell_type": "code",
   "execution_count": 60,
   "id": "e0b711b2",
   "metadata": {},
   "outputs": [
    {
     "name": "stdout",
     "output_type": "stream",
     "text": [
      "<class 'pandas.core.frame.DataFrame'>\n",
      "RangeIndex: 14599 entries, 0 to 14598\n",
      "Data columns (total 64 columns):\n",
      " #   Column               Non-Null Count  Dtype  \n",
      "---  ------               --------------  -----  \n",
      " 0   Id                   14599 non-null  int64  \n",
      " 1   Date                 14599 non-null  int64  \n",
      " 2   AveragePrice         14599 non-null  float64\n",
      " 3   4046                 14599 non-null  float64\n",
      " 4   4225                 14599 non-null  float64\n",
      " 5   4770                 14599 non-null  float64\n",
      " 6   SmallBags            14599 non-null  float64\n",
      " 7   LargeBags            14599 non-null  float64\n",
      " 8   XLBags               14599 non-null  float64\n",
      " 9   year                 14599 non-null  int64  \n",
      " 10  organic              14599 non-null  uint8  \n",
      " 11  Atlanta              14599 non-null  uint8  \n",
      " 12  BaltimoreWashington  14599 non-null  uint8  \n",
      " 13  Boise                14599 non-null  uint8  \n",
      " 14  Boston               14599 non-null  uint8  \n",
      " 15  BuffaloRochester     14599 non-null  uint8  \n",
      " 16  California           14599 non-null  uint8  \n",
      " 17  Charlotte            14599 non-null  uint8  \n",
      " 18  Chicago              14599 non-null  uint8  \n",
      " 19  CincinnatiDayton     14599 non-null  uint8  \n",
      " 20  Columbus             14599 non-null  uint8  \n",
      " 21  DallasFtWorth        14599 non-null  uint8  \n",
      " 22  Denver               14599 non-null  uint8  \n",
      " 23  Detroit              14599 non-null  uint8  \n",
      " 24  GrandRapids          14599 non-null  uint8  \n",
      " 25  GreatLakes           14599 non-null  uint8  \n",
      " 26  HarrisburgScranton   14599 non-null  uint8  \n",
      " 27  HartfordSpringfield  14599 non-null  uint8  \n",
      " 28  Houston              14599 non-null  uint8  \n",
      " 29  Indianapolis         14599 non-null  uint8  \n",
      " 30  Jacksonville         14599 non-null  uint8  \n",
      " 31  LasVegas             14599 non-null  uint8  \n",
      " 32  LosAngeles           14599 non-null  uint8  \n",
      " 33  Louisville           14599 non-null  uint8  \n",
      " 34  MiamiFtLauderdale    14599 non-null  uint8  \n",
      " 35  Midsouth             14599 non-null  uint8  \n",
      " 36  Nashville            14599 non-null  uint8  \n",
      " 37  NewOrleansMobile     14599 non-null  uint8  \n",
      " 38  NewYork              14599 non-null  uint8  \n",
      " 39  Northeast            14599 non-null  uint8  \n",
      " 40  NorthernNewEngland   14599 non-null  uint8  \n",
      " 41  Orlando              14599 non-null  uint8  \n",
      " 42  Philadelphia         14599 non-null  uint8  \n",
      " 43  PhoenixTucson        14599 non-null  uint8  \n",
      " 44  Pittsburgh           14599 non-null  uint8  \n",
      " 45  Plains               14599 non-null  uint8  \n",
      " 46  Portland             14599 non-null  uint8  \n",
      " 47  RaleighGreensboro    14599 non-null  uint8  \n",
      " 48  RichmondNorfolk      14599 non-null  uint8  \n",
      " 49  Roanoke              14599 non-null  uint8  \n",
      " 50  Sacramento           14599 non-null  uint8  \n",
      " 51  SanDiego             14599 non-null  uint8  \n",
      " 52  SanFrancisco         14599 non-null  uint8  \n",
      " 53  Seattle              14599 non-null  uint8  \n",
      " 54  SouthCarolina        14599 non-null  uint8  \n",
      " 55  SouthCentral         14599 non-null  uint8  \n",
      " 56  Southeast            14599 non-null  uint8  \n",
      " 57  Spokane              14599 non-null  uint8  \n",
      " 58  StLouis              14599 non-null  uint8  \n",
      " 59  Syracuse             14599 non-null  uint8  \n",
      " 60  Tampa                14599 non-null  uint8  \n",
      " 61  TotalUS              14599 non-null  uint8  \n",
      " 62  West                 14599 non-null  uint8  \n",
      " 63  WestTexNewMexico     14599 non-null  uint8  \n",
      "dtypes: float64(7), int64(3), uint8(54)\n",
      "memory usage: 1.9 MB\n"
     ]
    }
   ],
   "source": [
    "train_df.info()"
   ]
  },
  {
   "cell_type": "markdown",
   "id": "a7d96c72",
   "metadata": {},
   "source": [
    "- **info()**  function gives us the following insights into the avocado_df dataframe:\n",
    "  - There are 9 float data points.\n",
    "  - There are 2 Integer type data points.\n",
    "  - There are 3 Object type data points.\n",
    "  \n",
    "  \n",
    "- As per initial observation, it looks like there are **No Null** values present,\n",
    "    <br>**We'll still confirm with a null check...**   "
   ]
  },
  {
   "cell_type": "code",
   "execution_count": 6,
   "id": "5c9b4e32",
   "metadata": {},
   "outputs": [
    {
     "data": {
      "text/html": [
       "<div>\n",
       "<style scoped>\n",
       "    .dataframe tbody tr th:only-of-type {\n",
       "        vertical-align: middle;\n",
       "    }\n",
       "\n",
       "    .dataframe tbody tr th {\n",
       "        vertical-align: top;\n",
       "    }\n",
       "\n",
       "    .dataframe thead th {\n",
       "        text-align: right;\n",
       "    }\n",
       "</style>\n",
       "<table border=\"1\" class=\"dataframe\">\n",
       "  <thead>\n",
       "    <tr style=\"text-align: right;\">\n",
       "      <th></th>\n",
       "      <th>Id</th>\n",
       "      <th>AveragePrice</th>\n",
       "      <th>Total Volume</th>\n",
       "      <th>4046</th>\n",
       "      <th>4225</th>\n",
       "      <th>4770</th>\n",
       "      <th>Total Bags</th>\n",
       "      <th>Small Bags</th>\n",
       "      <th>Large Bags</th>\n",
       "      <th>XLarge Bags</th>\n",
       "      <th>year</th>\n",
       "    </tr>\n",
       "  </thead>\n",
       "  <tbody>\n",
       "    <tr>\n",
       "      <th>count</th>\n",
       "      <td>14599.000000</td>\n",
       "      <td>14599.000000</td>\n",
       "      <td>1.459900e+04</td>\n",
       "      <td>1.459900e+04</td>\n",
       "      <td>1.459900e+04</td>\n",
       "      <td>1.459900e+04</td>\n",
       "      <td>1.459900e+04</td>\n",
       "      <td>1.459900e+04</td>\n",
       "      <td>1.459900e+04</td>\n",
       "      <td>14599.000000</td>\n",
       "      <td>14599.000000</td>\n",
       "    </tr>\n",
       "    <tr>\n",
       "      <th>mean</th>\n",
       "      <td>9116.120899</td>\n",
       "      <td>1.409168</td>\n",
       "      <td>8.136614e+05</td>\n",
       "      <td>2.787616e+05</td>\n",
       "      <td>2.835157e+05</td>\n",
       "      <td>2.175564e+04</td>\n",
       "      <td>2.296264e+05</td>\n",
       "      <td>1.746354e+05</td>\n",
       "      <td>5.199545e+04</td>\n",
       "      <td>2995.622236</td>\n",
       "      <td>2016.146174</td>\n",
       "    </tr>\n",
       "    <tr>\n",
       "      <th>std</th>\n",
       "      <td>5279.989902</td>\n",
       "      <td>0.404518</td>\n",
       "      <td>3.292013e+06</td>\n",
       "      <td>1.206792e+06</td>\n",
       "      <td>1.150215e+06</td>\n",
       "      <td>1.025608e+05</td>\n",
       "      <td>9.429775e+05</td>\n",
       "      <td>7.139212e+05</td>\n",
       "      <td>2.343441e+05</td>\n",
       "      <td>17313.445157</td>\n",
       "      <td>0.937565</td>\n",
       "    </tr>\n",
       "    <tr>\n",
       "      <th>min</th>\n",
       "      <td>2.000000</td>\n",
       "      <td>0.440000</td>\n",
       "      <td>3.855500e+02</td>\n",
       "      <td>0.000000e+00</td>\n",
       "      <td>0.000000e+00</td>\n",
       "      <td>0.000000e+00</td>\n",
       "      <td>0.000000e+00</td>\n",
       "      <td>0.000000e+00</td>\n",
       "      <td>0.000000e+00</td>\n",
       "      <td>0.000000</td>\n",
       "      <td>2015.000000</td>\n",
       "    </tr>\n",
       "    <tr>\n",
       "      <th>25%</th>\n",
       "      <td>4538.500000</td>\n",
       "      <td>1.100000</td>\n",
       "      <td>1.080823e+04</td>\n",
       "      <td>8.493600e+02</td>\n",
       "      <td>3.018255e+03</td>\n",
       "      <td>0.000000e+00</td>\n",
       "      <td>5.040900e+03</td>\n",
       "      <td>2.828890e+03</td>\n",
       "      <td>1.314550e+02</td>\n",
       "      <td>0.000000</td>\n",
       "      <td>2015.000000</td>\n",
       "    </tr>\n",
       "    <tr>\n",
       "      <th>50%</th>\n",
       "      <td>9125.000000</td>\n",
       "      <td>1.370000</td>\n",
       "      <td>1.070186e+05</td>\n",
       "      <td>8.425390e+03</td>\n",
       "      <td>2.890747e+04</td>\n",
       "      <td>1.807200e+02</td>\n",
       "      <td>3.960296e+04</td>\n",
       "      <td>2.631176e+04</td>\n",
       "      <td>2.621750e+03</td>\n",
       "      <td>0.000000</td>\n",
       "      <td>2016.000000</td>\n",
       "    </tr>\n",
       "    <tr>\n",
       "      <th>75%</th>\n",
       "      <td>13698.500000</td>\n",
       "      <td>1.670000</td>\n",
       "      <td>4.261702e+05</td>\n",
       "      <td>1.087822e+05</td>\n",
       "      <td>1.451605e+05</td>\n",
       "      <td>6.136665e+03</td>\n",
       "      <td>1.096453e+05</td>\n",
       "      <td>8.300046e+04</td>\n",
       "      <td>2.151112e+04</td>\n",
       "      <td>127.940000</td>\n",
       "      <td>2017.000000</td>\n",
       "    </tr>\n",
       "    <tr>\n",
       "      <th>max</th>\n",
       "      <td>18249.000000</td>\n",
       "      <td>3.250000</td>\n",
       "      <td>6.250565e+07</td>\n",
       "      <td>2.162018e+07</td>\n",
       "      <td>2.047057e+07</td>\n",
       "      <td>2.546439e+06</td>\n",
       "      <td>1.937313e+07</td>\n",
       "      <td>1.338459e+07</td>\n",
       "      <td>5.719097e+06</td>\n",
       "      <td>551693.650000</td>\n",
       "      <td>2018.000000</td>\n",
       "    </tr>\n",
       "  </tbody>\n",
       "</table>\n",
       "</div>"
      ],
      "text/plain": [
       "                 Id  AveragePrice  Total Volume          4046          4225  \\\n",
       "count  14599.000000  14599.000000  1.459900e+04  1.459900e+04  1.459900e+04   \n",
       "mean    9116.120899      1.409168  8.136614e+05  2.787616e+05  2.835157e+05   \n",
       "std     5279.989902      0.404518  3.292013e+06  1.206792e+06  1.150215e+06   \n",
       "min        2.000000      0.440000  3.855500e+02  0.000000e+00  0.000000e+00   \n",
       "25%     4538.500000      1.100000  1.080823e+04  8.493600e+02  3.018255e+03   \n",
       "50%     9125.000000      1.370000  1.070186e+05  8.425390e+03  2.890747e+04   \n",
       "75%    13698.500000      1.670000  4.261702e+05  1.087822e+05  1.451605e+05   \n",
       "max    18249.000000      3.250000  6.250565e+07  2.162018e+07  2.047057e+07   \n",
       "\n",
       "               4770    Total Bags    Small Bags    Large Bags    XLarge Bags  \\\n",
       "count  1.459900e+04  1.459900e+04  1.459900e+04  1.459900e+04   14599.000000   \n",
       "mean   2.175564e+04  2.296264e+05  1.746354e+05  5.199545e+04    2995.622236   \n",
       "std    1.025608e+05  9.429775e+05  7.139212e+05  2.343441e+05   17313.445157   \n",
       "min    0.000000e+00  0.000000e+00  0.000000e+00  0.000000e+00       0.000000   \n",
       "25%    0.000000e+00  5.040900e+03  2.828890e+03  1.314550e+02       0.000000   \n",
       "50%    1.807200e+02  3.960296e+04  2.631176e+04  2.621750e+03       0.000000   \n",
       "75%    6.136665e+03  1.096453e+05  8.300046e+04  2.151112e+04     127.940000   \n",
       "max    2.546439e+06  1.937313e+07  1.338459e+07  5.719097e+06  551693.650000   \n",
       "\n",
       "               year  \n",
       "count  14599.000000  \n",
       "mean    2016.146174  \n",
       "std        0.937565  \n",
       "min     2015.000000  \n",
       "25%     2015.000000  \n",
       "50%     2016.000000  \n",
       "75%     2017.000000  \n",
       "max     2018.000000  "
      ]
     },
     "execution_count": 6,
     "metadata": {},
     "output_type": "execute_result"
    }
   ],
   "source": [
    "train_df.describe()"
   ]
  },
  {
   "cell_type": "markdown",
   "id": "a9c993d9",
   "metadata": {},
   "source": [
    "### Data Exploration "
   ]
  },
  {
   "cell_type": "code",
   "execution_count": 7,
   "id": "5bd20d3c",
   "metadata": {},
   "outputs": [
    {
     "data": {
      "text/plain": [
       "Index(['Id', 'Date', 'AveragePrice', 'Total Volume', '4046', '4225', '4770',\n",
       "       'Total Bags', 'Small Bags', 'Large Bags', 'XLarge Bags', 'type', 'year',\n",
       "       'region'],\n",
       "      dtype='object')"
      ]
     },
     "execution_count": 7,
     "metadata": {},
     "output_type": "execute_result"
    }
   ],
   "source": [
    "train_df.columns"
   ]
  },
  {
   "cell_type": "code",
   "execution_count": 11,
   "id": "c3df24fb",
   "metadata": {},
   "outputs": [
    {
     "data": {
      "text/plain": [
       "<seaborn.axisgrid.PairGrid at 0x20c7c3bb2e0>"
      ]
     },
     "execution_count": 11,
     "metadata": {},
     "output_type": "execute_result"
    },
    {
     "data": {
      "image/png": "[encoded data removed]",
      "text/plain": [
       "<Figure size 1512x504 with 6 Axes>"
      ]
     },
     "metadata": {
      "needs_background": "light"
     },
     "output_type": "display_data"
    }
   ],
   "source": [
    "sns.pairplot(train_df, x_vars=['4046', '4225', '4770', 'Small Bags', 'Large Bags', 'XLarge Bags' ], y_vars='AveragePrice', size=7, aspect=0.5, kind='reg')"
   ]
  },
  {
   "cell_type": "code",
   "execution_count": 12,
   "id": "11585985",
   "metadata": {},
   "outputs": [
    {
     "data": {
      "text/plain": [
       "<AxesSubplot:xlabel='AveragePrice', ylabel='Density'>"
      ]
     },
     "execution_count": 12,
     "metadata": {},
     "output_type": "execute_result"
    },
    {
     "data": {
      "image/png": "[encoded data removed]",
      "text/plain": [
       "<Figure size 432x288 with 1 Axes>"
      ]
     },
     "metadata": {
      "needs_background": "light"
     },
     "output_type": "display_data"
    }
   ],
   "source": [
    "sns.distplot(train_df.AveragePrice , color=\"r\")"
   ]
  },
  {
   "cell_type": "markdown",
   "id": "29ac57e9",
   "metadata": {},
   "source": [
    "- Average Price looks like a Normal Distribution , <br>This fulfills the first assumption for Linear Regression : **Target Variable should be Normally Distributed**"
   ]
  },
  {
   "cell_type": "code",
   "execution_count": 13,
   "id": "dd501e3c",
   "metadata": {},
   "outputs": [],
   "source": [
    "train_df.drop(['Total Volume', 'Total Bags'], axis=1, inplace=True)"
   ]
  },
  {
   "cell_type": "markdown",
   "id": "7ed7f2e4",
   "metadata": {},
   "source": [
    "- We'll drop Total Volume as it is the sum of values in columns - 4046, 4225, 4770\n",
    "- We'll drop Total Bags as it is the sum of values in columns - Small Bags, Large Bags and XLarge Bags"
   ]
  },
  {
   "cell_type": "code",
   "execution_count": 14,
   "id": "325017ee",
   "metadata": {},
   "outputs": [],
   "source": [
    "date_ordering = sorted(train_df['Date'].unique())"
   ]
  },
  {
   "cell_type": "markdown",
   "id": "7d8d5f62",
   "metadata": {},
   "source": [
    "Encoding Variables\n",
    "\n",
    "- We'll order date in ascending order to relate the prices with the date of transaction to know how old or new the prices are.\n",
    "   - The older the date is, lower will be the index value"
   ]
  },
  {
   "cell_type": "code",
   "execution_count": 15,
   "id": "0434b78e",
   "metadata": {},
   "outputs": [],
   "source": [
    "def ordinal_encoding(df, column, order):\n",
    "    df[column] = df[column].apply(lambda x: order.index(x))\n",
    "    return df\n",
    "\n",
    "def one_hot(df, col):\n",
    "    dummy_type = pd.get_dummies(df[col], drop_first=True)\n",
    "    df = pd.concat([df, dummy_type], axis=1)\n",
    "    df.drop(col, axis=1, inplace=True) #Dropping the original column as it has been eencoded and is not needed any further\n",
    "    return df"
   ]
  },
  {
   "cell_type": "code",
   "execution_count": 16,
   "id": "632e9744",
   "metadata": {},
   "outputs": [
    {
     "data": {
      "text/html": [
       "<div>\n",
       "<style scoped>\n",
       "    .dataframe tbody tr th:only-of-type {\n",
       "        vertical-align: middle;\n",
       "    }\n",
       "\n",
       "    .dataframe tbody tr th {\n",
       "        vertical-align: top;\n",
       "    }\n",
       "\n",
       "    .dataframe thead th {\n",
       "        text-align: right;\n",
       "    }\n",
       "</style>\n",
       "<table border=\"1\" class=\"dataframe\">\n",
       "  <thead>\n",
       "    <tr style=\"text-align: right;\">\n",
       "      <th></th>\n",
       "      <th>Id</th>\n",
       "      <th>Date</th>\n",
       "      <th>AveragePrice</th>\n",
       "      <th>4046</th>\n",
       "      <th>4225</th>\n",
       "      <th>4770</th>\n",
       "      <th>Small Bags</th>\n",
       "      <th>Large Bags</th>\n",
       "      <th>XLarge Bags</th>\n",
       "      <th>type</th>\n",
       "      <th>year</th>\n",
       "      <th>region</th>\n",
       "    </tr>\n",
       "  </thead>\n",
       "  <tbody>\n",
       "    <tr>\n",
       "      <th>0</th>\n",
       "      <td>14761</td>\n",
       "      <td>137</td>\n",
       "      <td>1.86</td>\n",
       "      <td>61.21</td>\n",
       "      <td>143.82</td>\n",
       "      <td>0.00</td>\n",
       "      <td>2379.05</td>\n",
       "      <td>0.00</td>\n",
       "      <td>0.00</td>\n",
       "      <td>organic</td>\n",
       "      <td>2017</td>\n",
       "      <td>Albany</td>\n",
       "    </tr>\n",
       "    <tr>\n",
       "      <th>1</th>\n",
       "      <td>6843</td>\n",
       "      <td>149</td>\n",
       "      <td>1.14</td>\n",
       "      <td>3181.00</td>\n",
       "      <td>43510.00</td>\n",
       "      <td>86.00</td>\n",
       "      <td>11788.00</td>\n",
       "      <td>42246.00</td>\n",
       "      <td>0.00</td>\n",
       "      <td>conventional</td>\n",
       "      <td>2017</td>\n",
       "      <td>Louisville</td>\n",
       "    </tr>\n",
       "    <tr>\n",
       "      <th>2</th>\n",
       "      <td>7306</td>\n",
       "      <td>110</td>\n",
       "      <td>0.95</td>\n",
       "      <td>242212.80</td>\n",
       "      <td>81697.52</td>\n",
       "      <td>264.25</td>\n",
       "      <td>48557.37</td>\n",
       "      <td>57365.00</td>\n",
       "      <td>0.00</td>\n",
       "      <td>conventional</td>\n",
       "      <td>2017</td>\n",
       "      <td>Orlando</td>\n",
       "    </tr>\n",
       "    <tr>\n",
       "      <th>3</th>\n",
       "      <td>12329</td>\n",
       "      <td>72</td>\n",
       "      <td>1.71</td>\n",
       "      <td>437.48</td>\n",
       "      <td>2422.71</td>\n",
       "      <td>544.63</td>\n",
       "      <td>2021.67</td>\n",
       "      <td>6.67</td>\n",
       "      <td>0.00</td>\n",
       "      <td>organic</td>\n",
       "      <td>2016</td>\n",
       "      <td>Charlotte</td>\n",
       "    </tr>\n",
       "    <tr>\n",
       "      <th>4</th>\n",
       "      <td>12036</td>\n",
       "      <td>53</td>\n",
       "      <td>1.66</td>\n",
       "      <td>2123.47</td>\n",
       "      <td>2121.26</td>\n",
       "      <td>0.00</td>\n",
       "      <td>392.02</td>\n",
       "      <td>977.34</td>\n",
       "      <td>0.00</td>\n",
       "      <td>organic</td>\n",
       "      <td>2016</td>\n",
       "      <td>Atlanta</td>\n",
       "    </tr>\n",
       "    <tr>\n",
       "      <th>...</th>\n",
       "      <td>...</td>\n",
       "      <td>...</td>\n",
       "      <td>...</td>\n",
       "      <td>...</td>\n",
       "      <td>...</td>\n",
       "      <td>...</td>\n",
       "      <td>...</td>\n",
       "      <td>...</td>\n",
       "      <td>...</td>\n",
       "      <td>...</td>\n",
       "      <td>...</td>\n",
       "      <td>...</td>\n",
       "    </tr>\n",
       "    <tr>\n",
       "      <th>14594</th>\n",
       "      <td>3830</td>\n",
       "      <td>70</td>\n",
       "      <td>0.93</td>\n",
       "      <td>17356.36</td>\n",
       "      <td>106300.33</td>\n",
       "      <td>18838.87</td>\n",
       "      <td>54973.21</td>\n",
       "      <td>27766.71</td>\n",
       "      <td>3365.91</td>\n",
       "      <td>conventional</td>\n",
       "      <td>2016</td>\n",
       "      <td>Indianapolis</td>\n",
       "    </tr>\n",
       "    <tr>\n",
       "      <th>14595</th>\n",
       "      <td>650</td>\n",
       "      <td>26</td>\n",
       "      <td>1.19</td>\n",
       "      <td>146171.45</td>\n",
       "      <td>428389.18</td>\n",
       "      <td>19546.92</td>\n",
       "      <td>88349.57</td>\n",
       "      <td>54456.03</td>\n",
       "      <td>0.00</td>\n",
       "      <td>conventional</td>\n",
       "      <td>2015</td>\n",
       "      <td>Denver</td>\n",
       "    </tr>\n",
       "    <tr>\n",
       "      <th>14596</th>\n",
       "      <td>2574</td>\n",
       "      <td>26</td>\n",
       "      <td>1.45</td>\n",
       "      <td>797.75</td>\n",
       "      <td>35080.61</td>\n",
       "      <td>3980.63</td>\n",
       "      <td>28845.65</td>\n",
       "      <td>217.78</td>\n",
       "      <td>0.00</td>\n",
       "      <td>conventional</td>\n",
       "      <td>2015</td>\n",
       "      <td>Syracuse</td>\n",
       "    </tr>\n",
       "    <tr>\n",
       "      <th>14597</th>\n",
       "      <td>7731</td>\n",
       "      <td>109</td>\n",
       "      <td>0.97</td>\n",
       "      <td>75074.86</td>\n",
       "      <td>76042.48</td>\n",
       "      <td>151.02</td>\n",
       "      <td>59129.65</td>\n",
       "      <td>1337.38</td>\n",
       "      <td>408.33</td>\n",
       "      <td>conventional</td>\n",
       "      <td>2017</td>\n",
       "      <td>Roanoke</td>\n",
       "    </tr>\n",
       "    <tr>\n",
       "      <th>14598</th>\n",
       "      <td>16551</td>\n",
       "      <td>149</td>\n",
       "      <td>1.45</td>\n",
       "      <td>1130.66</td>\n",
       "      <td>17.72</td>\n",
       "      <td>0.00</td>\n",
       "      <td>10217.59</td>\n",
       "      <td>3.33</td>\n",
       "      <td>0.00</td>\n",
       "      <td>organic</td>\n",
       "      <td>2017</td>\n",
       "      <td>Pittsburgh</td>\n",
       "    </tr>\n",
       "  </tbody>\n",
       "</table>\n",
       "<p>14599 rows × 12 columns</p>\n",
       "</div>"
      ],
      "text/plain": [
       "          Id  Date  AveragePrice       4046       4225      4770  Small Bags  \\\n",
       "0      14761   137          1.86      61.21     143.82      0.00     2379.05   \n",
       "1       6843   149          1.14    3181.00   43510.00     86.00    11788.00   \n",
       "2       7306   110          0.95  242212.80   81697.52    264.25    48557.37   \n",
       "3      12329    72          1.71     437.48    2422.71    544.63     2021.67   \n",
       "4      12036    53          1.66    2123.47    2121.26      0.00      392.02   \n",
       "...      ...   ...           ...        ...        ...       ...         ...   \n",
       "14594   3830    70          0.93   17356.36  106300.33  18838.87    54973.21   \n",
       "14595    650    26          1.19  146171.45  428389.18  19546.92    88349.57   \n",
       "14596   2574    26          1.45     797.75   35080.61   3980.63    28845.65   \n",
       "14597   7731   109          0.97   75074.86   76042.48    151.02    59129.65   \n",
       "14598  16551   149          1.45    1130.66      17.72      0.00    10217.59   \n",
       "\n",
       "       Large Bags  XLarge Bags          type  year        region  \n",
       "0            0.00         0.00       organic  2017        Albany  \n",
       "1        42246.00         0.00  conventional  2017    Louisville  \n",
       "2        57365.00         0.00  conventional  2017       Orlando  \n",
       "3            6.67         0.00       organic  2016     Charlotte  \n",
       "4          977.34         0.00       organic  2016       Atlanta  \n",
       "...           ...          ...           ...   ...           ...  \n",
       "14594    27766.71      3365.91  conventional  2016  Indianapolis  \n",
       "14595    54456.03         0.00  conventional  2015        Denver  \n",
       "14596      217.78         0.00  conventional  2015      Syracuse  \n",
       "14597     1337.38       408.33  conventional  2017       Roanoke  \n",
       "14598        3.33         0.00       organic  2017    Pittsburgh  \n",
       "\n",
       "[14599 rows x 12 columns]"
      ]
     },
     "execution_count": 16,
     "metadata": {},
     "output_type": "execute_result"
    }
   ],
   "source": [
    "ordinal_encoding(train_df, \"Date\", date_ordering)"
   ]
  },
  {
   "cell_type": "code",
   "execution_count": 17,
   "id": "25878986",
   "metadata": {},
   "outputs": [],
   "source": [
    "train_df = one_hot(train_df, 'type')\n",
    "train_df = one_hot(train_df, 'region')"
   ]
  },
  {
   "cell_type": "code",
   "execution_count": 18,
   "id": "673e4018",
   "metadata": {},
   "outputs": [
    {
     "name": "stdout",
     "output_type": "stream",
     "text": [
      "<class 'pandas.core.frame.DataFrame'>\n",
      "RangeIndex: 14599 entries, 0 to 14598\n",
      "Data columns (total 64 columns):\n",
      " #   Column               Non-Null Count  Dtype  \n",
      "---  ------               --------------  -----  \n",
      " 0   Id                   14599 non-null  int64  \n",
      " 1   Date                 14599 non-null  int64  \n",
      " 2   AveragePrice         14599 non-null  float64\n",
      " 3   4046                 14599 non-null  float64\n",
      " 4   4225                 14599 non-null  float64\n",
      " 5   4770                 14599 non-null  float64\n",
      " 6   Small Bags           14599 non-null  float64\n",
      " 7   Large Bags           14599 non-null  float64\n",
      " 8   XLarge Bags          14599 non-null  float64\n",
      " 9   year                 14599 non-null  int64  \n",
      " 10  organic              14599 non-null  uint8  \n",
      " 11  Atlanta              14599 non-null  uint8  \n",
      " 12  BaltimoreWashington  14599 non-null  uint8  \n",
      " 13  Boise                14599 non-null  uint8  \n",
      " 14  Boston               14599 non-null  uint8  \n",
      " 15  BuffaloRochester     14599 non-null  uint8  \n",
      " 16  California           14599 non-null  uint8  \n",
      " 17  Charlotte            14599 non-null  uint8  \n",
      " 18  Chicago              14599 non-null  uint8  \n",
      " 19  CincinnatiDayton     14599 non-null  uint8  \n",
      " 20  Columbus             14599 non-null  uint8  \n",
      " 21  DallasFtWorth        14599 non-null  uint8  \n",
      " 22  Denver               14599 non-null  uint8  \n",
      " 23  Detroit              14599 non-null  uint8  \n",
      " 24  GrandRapids          14599 non-null  uint8  \n",
      " 25  GreatLakes           14599 non-null  uint8  \n",
      " 26  HarrisburgScranton   14599 non-null  uint8  \n",
      " 27  HartfordSpringfield  14599 non-null  uint8  \n",
      " 28  Houston              14599 non-null  uint8  \n",
      " 29  Indianapolis         14599 non-null  uint8  \n",
      " 30  Jacksonville         14599 non-null  uint8  \n",
      " 31  LasVegas             14599 non-null  uint8  \n",
      " 32  LosAngeles           14599 non-null  uint8  \n",
      " 33  Louisville           14599 non-null  uint8  \n",
      " 34  MiamiFtLauderdale    14599 non-null  uint8  \n",
      " 35  Midsouth             14599 non-null  uint8  \n",
      " 36  Nashville            14599 non-null  uint8  \n",
      " 37  NewOrleansMobile     14599 non-null  uint8  \n",
      " 38  NewYork              14599 non-null  uint8  \n",
      " 39  Northeast            14599 non-null  uint8  \n",
      " 40  NorthernNewEngland   14599 non-null  uint8  \n",
      " 41  Orlando              14599 non-null  uint8  \n",
      " 42  Philadelphia         14599 non-null  uint8  \n",
      " 43  PhoenixTucson        14599 non-null  uint8  \n",
      " 44  Pittsburgh           14599 non-null  uint8  \n",
      " 45  Plains               14599 non-null  uint8  \n",
      " 46  Portland             14599 non-null  uint8  \n",
      " 47  RaleighGreensboro    14599 non-null  uint8  \n",
      " 48  RichmondNorfolk      14599 non-null  uint8  \n",
      " 49  Roanoke              14599 non-null  uint8  \n",
      " 50  Sacramento           14599 non-null  uint8  \n",
      " 51  SanDiego             14599 non-null  uint8  \n",
      " 52  SanFrancisco         14599 non-null  uint8  \n",
      " 53  Seattle              14599 non-null  uint8  \n",
      " 54  SouthCarolina        14599 non-null  uint8  \n",
      " 55  SouthCentral         14599 non-null  uint8  \n",
      " 56  Southeast            14599 non-null  uint8  \n",
      " 57  Spokane              14599 non-null  uint8  \n",
      " 58  StLouis              14599 non-null  uint8  \n",
      " 59  Syracuse             14599 non-null  uint8  \n",
      " 60  Tampa                14599 non-null  uint8  \n",
      " 61  TotalUS              14599 non-null  uint8  \n",
      " 62  West                 14599 non-null  uint8  \n",
      " 63  WestTexNewMexico     14599 non-null  uint8  \n",
      "dtypes: float64(7), int64(3), uint8(54)\n",
      "memory usage: 1.9 MB\n"
     ]
    }
   ],
   "source": [
    "train_df.info()"
   ]
  },
  {
   "cell_type": "code",
   "execution_count": 19,
   "id": "daca1957",
   "metadata": {},
   "outputs": [
    {
     "data": {
      "text/plain": [
       "array([dtype('int64'), dtype('float64'), dtype('uint8')], dtype=object)"
      ]
     },
     "execution_count": 19,
     "metadata": {},
     "output_type": "execute_result"
    }
   ],
   "source": [
    "train_df.dtypes.unique()"
   ]
  },
  {
   "cell_type": "markdown",
   "id": "1753598b",
   "metadata": {},
   "source": [
    "- As we can see, there are majorly 3 datatypes that we are dealing with:\n",
    "    - Int\n",
    "    - float\n",
    "    - object"
   ]
  },
  {
   "cell_type": "code",
   "execution_count": 20,
   "id": "912365e5",
   "metadata": {},
   "outputs": [],
   "source": [
    "train_df.rename(columns={'Small Bags': 'SmallBags', 'Large Bags': 'LargeBags', 'XLarge Bags': 'XLBags'}, inplace=True)"
   ]
  },
  {
   "cell_type": "code",
   "execution_count": 21,
   "id": "74a2e6e0",
   "metadata": {},
   "outputs": [
    {
     "data": {
      "text/plain": [
       "1.52    123\n",
       "2.05     34\n",
       "3.25      1\n",
       "1.74     89\n",
       "1.61     99\n",
       "Name: AveragePrice, dtype: int64"
      ]
     },
     "execution_count": 21,
     "metadata": {},
     "output_type": "execute_result"
    }
   ],
   "source": [
    "#Analysing the target variable\n",
    "train_df.AveragePrice.value_counts().sample(5)"
   ]
  },
  {
   "cell_type": "code",
   "execution_count": 22,
   "id": "820f46a2",
   "metadata": {},
   "outputs": [
    {
     "name": "stdout",
     "output_type": "stream",
     "text": [
      "The Average Values of Avocados ranges between 0.44 and 3.25\n"
     ]
    }
   ],
   "source": [
    "print(\"The Average Values of Avocados ranges between {0} and {1}\".format(train_df.AveragePrice.min(), train_df.AveragePrice.max()))"
   ]
  },
  {
   "cell_type": "code",
   "execution_count": 25,
   "id": "1be4c0f8",
   "metadata": {},
   "outputs": [],
   "source": [
    "X = train_df.loc[:, train_df.columns != 'AveragePrice']\n",
    "y = pd.DataFrame(train_df.AveragePrice)"
   ]
  },
  {
   "cell_type": "code",
   "execution_count": 23,
   "id": "73120eeb",
   "metadata": {},
   "outputs": [],
   "source": [
    "from sklearn.model_selection import train_test_split\n",
    "from sklearn.preprocessing import StandardScaler\n",
    "#Modules for executing time and error\n",
    "from sklearn import metrics\n",
    "import time\n",
    "\n",
    "from sklearn.linear_model import LinearRegression\n",
    "from sklearn.model_selection import GridSearchCV\n",
    "from sklearn.tree import DecisionTreeRegressor \n",
    "from sklearn.ensemble import RandomForestRegressor"
   ]
  },
  {
   "cell_type": "code",
   "execution_count": 26,
   "id": "150992dd",
   "metadata": {},
   "outputs": [],
   "source": [
    "X_train, X_test, y_train, y_test = train_test_split(X, y, test_size = 0.20)"
   ]
  },
  {
   "cell_type": "code",
   "execution_count": 27,
   "id": "55b474b7",
   "metadata": {},
   "outputs": [
    {
     "name": "stdout",
     "output_type": "stream",
     "text": [
      "X_train shape :  (11679, 63)\n",
      "y_train shape :  (11679, 1)\n"
     ]
    }
   ],
   "source": [
    "print('X_train shape : ', X_train.shape)\n",
    "print('y_train shape : ', y_train.shape)"
   ]
  },
  {
   "cell_type": "code",
   "execution_count": 28,
   "id": "7a94491e",
   "metadata": {},
   "outputs": [
    {
     "name": "stdout",
     "output_type": "stream",
     "text": [
      "X_test shape :  (2920, 63)\n",
      "y_test shape :  (2920, 1)\n"
     ]
    }
   ],
   "source": [
    "print('X_test shape : ', X_test.shape)\n",
    "print('y_test shape : ', y_test.shape)"
   ]
  },
  {
   "cell_type": "code",
   "execution_count": 29,
   "id": "aa061958",
   "metadata": {},
   "outputs": [],
   "source": [
    "scaler = StandardScaler() # create an object\n",
    "\n",
    "scaler.fit(X_train)\n",
    "X_train_scaled = scaler.transform(X_train)\n",
    "X_test_scaled = scaler.transform(X_test)"
   ]
  },
  {
   "cell_type": "markdown",
   "id": "0ccab33c",
   "metadata": {},
   "source": [
    "\n",
    "We are using 3 modelling techniques to get the best results. We aim the following:\n",
    "\n",
    "  - Low Errors in test set (RMSE)\n",
    "  - High R-squared and Adjusted R-squared score"
   ]
  },
  {
   "cell_type": "markdown",
   "id": "23dd0198",
   "metadata": {},
   "source": [
    "### Linear Regression with GridSearch CV"
   ]
  },
  {
   "cell_type": "code",
   "execution_count": 39,
   "id": "0ca45512",
   "metadata": {},
   "outputs": [
    {
     "name": "stdout",
     "output_type": "stream",
     "text": [
      "Total Training Time : 5.46875 seconds\n",
      "Mean cross-validated score of the best_estimator :  0.5921469033200362\n"
     ]
    }
   ],
   "source": [
    "linreg = LinearRegression()\n",
    "parameters = {'normalize':[True,False], 'copy_X':[True, False]}\n",
    "linreg = GridSearchCV(linreg,parameters, cv = 10,refit = True)\n",
    "start_time = time.process_time()                                                 # to measure training time\n",
    "\n",
    "linreg.fit(X_train_scaled, y_train)                       # fit the model to the training data (learn the coefficients)\n",
    "print(\"Total Training Time : %s seconds\" %(time.process_time() - start_time))\n",
    "print(\"Mean cross-validated score of the best_estimator : \", linreg.best_score_)  "
   ]
  },
  {
   "cell_type": "markdown",
   "id": "539f819e",
   "metadata": {},
   "source": [
    "### Prediction"
   ]
  },
  {
   "cell_type": "code",
   "execution_count": 40,
   "id": "4cd30e72",
   "metadata": {},
   "outputs": [
    {
     "name": "stdout",
     "output_type": "stream",
     "text": [
      "Total predicting time for the test set : 0.0 seconds\n"
     ]
    }
   ],
   "source": [
    "#prediction\n",
    "y_pred_train  = linreg.predict(X_train_scaled)\n",
    "time_pred = time.process_time()\n",
    "y_pred_test = linreg.predict(X_test_scaled)                                     # make predictions on the testing set\n",
    "print(\"Total predicting time for the test set : %s seconds\" %(time.process_time() - time_pred))"
   ]
  },
  {
   "cell_type": "markdown",
   "id": "99856b44",
   "metadata": {},
   "source": [
    "### Evalution Metrics"
   ]
  },
  {
   "cell_type": "code",
   "execution_count": 41,
   "id": "c5d12c80",
   "metadata": {},
   "outputs": [
    {
     "name": "stdout",
     "output_type": "stream",
     "text": [
      "--------------------------------------------------------------------------\n",
      "MAE of the model is 0.19545362120818427\n",
      "MSE of the model is 0.06520661821644146\n",
      "RMSE of the model is 0.2553558658351937\n",
      "R squared error of the model is 0.5890300973881164\n",
      "Adjusted R squared error of the model is 0.5799645848305013\n",
      "--------------------------------------------------------------------------\n"
     ]
    }
   ],
   "source": [
    "MAE_test = metrics.mean_absolute_error(y_test, y_pred_test)\n",
    "# MAE_train = metrics.mean_absolute_error(y_train,y_pred_train)\n",
    "\n",
    "MSE_test = metrics.mean_squared_error(y_test,y_pred_test)\n",
    "\n",
    "RMSE_test = np.sqrt(metrics.mean_squared_error(y_test, y_pred_test))            # compute the RMSE of our predictions\n",
    "# RMSE_train = np.sqrt(metrics.mean_squared_error(y_train, y_pred_train))\n",
    "r2 = metrics.r2_score(y_test, y_pred_test)\n",
    "adjusted_r_squared = 1 - (1-r2)*(len(y_test)-1)/(len(y_test)-X_test.shape[1]-1)\n",
    "\n",
    "print('--------------------------------------------------------------------------')\n",
    "print('MAE of the model is {}'.format(MAE_test))\n",
    "print('MSE of the model is {}'.format(MSE_test))\n",
    "print('RMSE of the model is {}'. format(RMSE_test))\n",
    "print('R squared error of the model is {}'.format(r2))\n",
    "print('Adjusted R squared error of the model is {}'.format(adjusted_r_squared))\n",
    "print('--------------------------------------------------------------------------')"
   ]
  },
  {
   "cell_type": "markdown",
   "id": "7455b391",
   "metadata": {},
   "source": [
    "### Decision Tree Regression with GridSearchCV"
   ]
  },
  {
   "cell_type": "code",
   "execution_count": 42,
   "id": "39d7503c",
   "metadata": {},
   "outputs": [],
   "source": [
    "dt=DecisionTreeRegressor()"
   ]
  },
  {
   "cell_type": "code",
   "execution_count": 43,
   "id": "8c7033cd",
   "metadata": {},
   "outputs": [],
   "source": [
    "# Number of features to consider at every split\n",
    "max_features = ['auto', 'log2',2,4,8,12]\n",
    "# Maximum number of levels in tree\n",
    "max_depth = [2,4,8,16,25]\n",
    "max_depth.append(None)\n",
    "param_grid = {'max_features': max_features,\n",
    "               'max_depth': max_depth,\n",
    "               }"
   ]
  },
  {
   "cell_type": "code",
   "execution_count": 44,
   "id": "ba739f04",
   "metadata": {},
   "outputs": [
    {
     "name": "stdout",
     "output_type": "stream",
     "text": [
      "Total Training Time : 0.78125 seconds\n"
     ]
    }
   ],
   "source": [
    "dt_model = GridSearchCV(estimator = dt, param_grid=param_grid, cv = 3, n_jobs = -1 ) #n_jobs=-1 to use all the cores\n",
    "\n",
    "start_time = time.process_time()\n",
    "dt_model.fit(X_train_scaled,y_train)\n",
    "print('Total Training Time : %s seconds'%(time.process_time() - start_time))"
   ]
  },
  {
   "cell_type": "markdown",
   "id": "f49fc449",
   "metadata": {},
   "source": [
    "### Predictions"
   ]
  },
  {
   "cell_type": "code",
   "execution_count": 46,
   "id": "64abbb1c",
   "metadata": {},
   "outputs": [
    {
     "name": "stdout",
     "output_type": "stream",
     "text": [
      "Total predicting time for the test set : 0.0 seconds\n"
     ]
    }
   ],
   "source": [
    "y_pred_train = dt_model.predict(X_train_scaled)\n",
    "\n",
    "time_pred = time.process_time()\n",
    "y_pred_test = dt_model.predict(X_test_scaled)                         # make predictions on the testing set\n",
    "print(\"Total predicting time for the test set : %s seconds\" %(time.process_time() - time_pred))"
   ]
  },
  {
   "cell_type": "markdown",
   "id": "8d8e1c7c",
   "metadata": {},
   "source": [
    "### Evalution Metrics"
   ]
  },
  {
   "cell_type": "code",
   "execution_count": 47,
   "id": "4ef5e930",
   "metadata": {},
   "outputs": [
    {
     "name": "stdout",
     "output_type": "stream",
     "text": [
      "--------------------------------------------------------------------------\n",
      "MAE of the model is 0.11643493150684932\n",
      "MSE of the model is 0.031490034246575344\n",
      "RMSE of the model is 0.2553558658351937\n",
      "R squared error of the model is 0.8015315521408709\n",
      "Adjusted R squared error of the model is 0.7971535716733902\n",
      "--------------------------------------------------------------------------\n"
     ]
    }
   ],
   "source": [
    "MAE_test = metrics.mean_absolute_error(y_test, y_pred_test)\n",
    "MSE_test = metrics.mean_squared_error(y_test,y_pred_test)\n",
    "r2 = metrics.r2_score(y_test, y_pred_test)\n",
    "adjusted_r_squared = 1 - (1-r2)*(len(y_test)-1)/(len(y_test)-X_test.shape[1]-1)\n",
    "\n",
    "print('--------------------------------------------------------------------------')\n",
    "print('MAE of the model is {}'.format(MAE_test))\n",
    "print('MSE of the model is {}'.format(MSE_test))\n",
    "print('RMSE of the model is {}'. format(RMSE_test))\n",
    "print('R squared error of the model is {}'.format(r2))\n",
    "print('Adjusted R squared error of the model is {}'.format(adjusted_r_squared))\n",
    "print('--------------------------------------------------------------------------')"
   ]
  },
  {
   "cell_type": "code",
   "execution_count": 48,
   "id": "329a2ce5",
   "metadata": {},
   "outputs": [
    {
     "data": {
      "text/plain": [
       "1.0"
      ]
     },
     "execution_count": 48,
     "metadata": {},
     "output_type": "execute_result"
    }
   ],
   "source": [
    "dt_model.score(X_train_scaled,y_train)"
   ]
  },
  {
   "cell_type": "code",
   "execution_count": 49,
   "id": "aad7d9a1",
   "metadata": {},
   "outputs": [
    {
     "data": {
      "text/plain": [
       "{'max_depth': None, 'max_features': 'auto'}"
      ]
     },
     "execution_count": 49,
     "metadata": {},
     "output_type": "execute_result"
    }
   ],
   "source": [
    "dt_model.best_params_"
   ]
  },
  {
   "cell_type": "markdown",
   "id": "5bea6057",
   "metadata": {},
   "source": [
    "### Random Forest Regression with GridSearchCV "
   ]
  },
  {
   "cell_type": "code",
   "execution_count": 50,
   "id": "829dd6b2",
   "metadata": {},
   "outputs": [],
   "source": [
    "rf=RandomForestRegressor()"
   ]
  },
  {
   "cell_type": "code",
   "execution_count": 51,
   "id": "a815cb3a",
   "metadata": {},
   "outputs": [],
   "source": [
    "# Number of trees in random forest\n",
    "n_estimators = [100,200,300,500]\n",
    "# Number of features to consider at every split\n",
    "# max_features = ['auto', 'log2','sqrt',4,8,12]\n",
    "max_features = ['auto', 0.2,'log2',0.4,0.6]\n",
    "# Maximum number of levels in tree\n",
    "max_depth = [8,16,25]\n",
    "\n",
    "max_depth.append(None)\n",
    "random_grid = {'n_estimators': n_estimators,\n",
    "               'max_features': max_features,\n",
    "               'max_depth': max_depth,\n",
    "               \"bootstrap\": [True, False],\n",
    "               \"oob_score\": [True]      #oob_score: Out of Bag Score; Bagging or Bootstrap Aggregation of scores\n",
    "               }"
   ]
  },
  {
   "cell_type": "code",
   "execution_count": 52,
   "id": "578d38cb",
   "metadata": {},
   "outputs": [
    {
     "name": "stdout",
     "output_type": "stream",
     "text": [
      "Total Training Time : 41.4375 seconds\n"
     ]
    }
   ],
   "source": [
    "rf_model = GridSearchCV(estimator = rf, param_grid=random_grid, cv = 3, n_jobs = -1 ) #n_jobs=-1 to use all the cores\n",
    "start_time = time.process_time()\n",
    "rf_model.fit(X_train_scaled,y_train)\n",
    "print(\"Total Training Time : %s seconds\" %(time.process_time() - start_time ))"
   ]
  },
  {
   "cell_type": "markdown",
   "id": "4f2c6f3d",
   "metadata": {},
   "source": [
    "### Predictions"
   ]
  },
  {
   "cell_type": "code",
   "execution_count": 53,
   "id": "825970cc",
   "metadata": {},
   "outputs": [
    {
     "name": "stdout",
     "output_type": "stream",
     "text": [
      "Total predicting time for the test set : 0.828125 seconds\n"
     ]
    }
   ],
   "source": [
    "rf_best_model = rf_model.best_estimator_         #replacing with the best estimator\n",
    "y_pred_train = rf_best_model.predict(X_train_scaled)\n",
    "\n",
    "time_pred = time.process_time()\n",
    "y_pred_test = rf_best_model.predict(X_test_scaled)                         # make predictions on the testing set\n",
    "print(\"Total predicting time for the test set : %s seconds\" %(time.process_time() - time_pred))"
   ]
  },
  {
   "cell_type": "markdown",
   "id": "764ab26f",
   "metadata": {},
   "source": [
    "### Evalution Metrics"
   ]
  },
  {
   "cell_type": "code",
   "execution_count": 54,
   "id": "801127a9",
   "metadata": {},
   "outputs": [
    {
     "name": "stdout",
     "output_type": "stream",
     "text": [
      "--------------------------------------------------------------------------\n",
      "MAE of the model is 0.08102536179604275\n",
      "MSE of the model is 0.013113203267763848\n",
      "RMSE of the model is 0.2553558658351937\n",
      "R squared error of the model is 0.9173529924218045\n",
      "Adjusted R squared error of the model is 0.915529896666403\n",
      "--------------------------------------------------------------------------\n"
     ]
    }
   ],
   "source": [
    "MAE_test = metrics.mean_absolute_error(y_test, y_pred_test)\n",
    "MSE_test = metrics.mean_squared_error(y_test,y_pred_test)\n",
    "r2 = metrics.r2_score(y_test, y_pred_test)\n",
    "adjusted_r_squared = 1 - (1-r2)*(len(y_test)-1)/(len(y_test)-X_test.shape[1]-1)\n",
    "\n",
    "print('--------------------------------------------------------------------------')\n",
    "print('MAE of the model is {}'.format(MAE_test))\n",
    "print('MSE of the model is {}'.format(MSE_test))\n",
    "print('RMSE of the model is {}'. format(RMSE_test))\n",
    "print('R squared error of the model is {}'.format(r2))\n",
    "print('Adjusted R squared error of the model is {}'.format(adjusted_r_squared))\n",
    "print('--------------------------------------------------------------------------')"
   ]
  },
  {
   "cell_type": "code",
   "execution_count": 55,
   "id": "78f77257",
   "metadata": {},
   "outputs": [
    {
     "data": {
      "text/plain": [
       "{'bootstrap': True,\n",
       " 'max_depth': None,\n",
       " 'max_features': 0.4,\n",
       " 'n_estimators': 500,\n",
       " 'oob_score': True}"
      ]
     },
     "execution_count": 55,
     "metadata": {},
     "output_type": "execute_result"
    }
   ],
   "source": [
    "rf_model.best_params_"
   ]
  },
  {
   "cell_type": "code",
   "execution_count": 56,
   "id": "f850c3c4",
   "metadata": {},
   "outputs": [
    {
     "data": {
      "text/plain": [
       "0.9885437926386479"
      ]
     },
     "execution_count": 56,
     "metadata": {},
     "output_type": "execute_result"
    }
   ],
   "source": [
    "rf_model.score(X_train_scaled, y_train)"
   ]
  },
  {
   "cell_type": "code",
   "execution_count": 57,
   "id": "deffad4d",
   "metadata": {},
   "outputs": [
    {
     "data": {
      "text/plain": [
       "RandomForestRegressor(max_features=0.4, n_estimators=500, oob_score=True)"
      ]
     },
     "execution_count": 57,
     "metadata": {},
     "output_type": "execute_result"
    }
   ],
   "source": [
    "rf_model.best_estimator_"
   ]
  },
  {
   "cell_type": "markdown",
   "id": "15717b21",
   "metadata": {},
   "source": [
    "### Plotting predicted values and actual values "
   ]
  },
  {
   "cell_type": "code",
   "execution_count": 58,
   "id": "0338c991",
   "metadata": {},
   "outputs": [
    {
     "data": {
      "text/plain": [
       "array([1.  , 1.8 , 1.76, ..., 1.27, 1.63, 1.58])"
      ]
     },
     "execution_count": 58,
     "metadata": {},
     "output_type": "execute_result"
    }
   ],
   "source": [
    "y_test_flat = y_test.values.flatten()\n",
    "y_test_flat"
   ]
  },
  {
   "cell_type": "code",
   "execution_count": 59,
   "id": "b4fe02eb",
   "metadata": {},
   "outputs": [
    {
     "data": {
      "text/plain": [
       "Text(0, 0.5, 'Predicted Test Value')"
      ]
     },
     "execution_count": 59,
     "metadata": {},
     "output_type": "execute_result"
    },
    {
     "data": {
      "image/png": "[encoded data removed]",
      "text/plain": [
       "<Figure size 720x504 with 1 Axes>"
      ]
     },
     "metadata": {
      "needs_background": "light"
     },
     "output_type": "display_data"
    }
   ],
   "source": [
    "plt.figure(figsize=(10,7))\n",
    "sns.scatterplot(x= y_test_flat, y=y_pred_test, color='g')\n",
    "plt.xlabel('Actual Test Value')\n",
    "plt.ylabel(\"Predicted Test Value\")"
   ]
  },
  {
   "cell_type": "markdown",
   "id": "d21a4741",
   "metadata": {},
   "source": [
    "From the above plot we could observe that there is no much difference b/w actual & predicted values"
   ]
  },
  {
   "cell_type": "markdown",
   "id": "18d637e6",
   "metadata": {},
   "source": [
    "We predicted the Average Prices of Avocados on the basis of various features using 3 models. The RMSE and R squared values of each of them are as follows:\n",
    "\n",
    "|Algorithm used for the Model\t| RMSE score  |       R-squared score                                |\n",
    "| ------------------------------|-------------|-----------------------------------------------------:| \n",
    "| Linear Regression\t            |      0.25   |        0.58                                          |\n",
    "| Decision Trees                |      0.25   |        0.80                                          | \n",
    "| Random Forest  \t            |      0.25   |        0.91                                          |"
   ]
  },
  {
   "cell_type": "markdown",
   "id": "4efb73eb",
   "metadata": {},
   "source": [
    "- While all the models have similar RMSE Scores, **Random Forest** has the greatest performance with the highest variance explained score (R-squared) of 0.91"
   ]
  },
  {
   "cell_type": "code",
   "execution_count": null,
   "id": "4c87345d",
   "metadata": {},
   "outputs": [],
   "source": []
  }
 ],
 "metadata": {
  "kernelspec": {
   "display_name": "Python 3",
   "language": "python",
   "name": "python3"
  },
  "language_info": {
   "codemirror_mode": {
    "name": "ipython",
    "version": 3
   },
   "file_extension": ".py",
   "mimetype": "text/x-python",
   "name": "python",
   "nbconvert_exporter": "python",
   "pygments_lexer": "ipython3",
   "version": "3.8.8"
  }
 },
 "nbformat": 4,
 "nbformat_minor": 5
}
